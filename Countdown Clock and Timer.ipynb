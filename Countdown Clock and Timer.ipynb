{
 "cells": [
  {
   "cell_type": "code",
   "execution_count": null,
   "id": "012af4e7",
   "metadata": {},
   "outputs": [],
   "source": [
    "import time\n",
    "\n",
    "\n",
    "def countdown(user_time):\n",
    "   while user_time >= 0:\n",
    "       mins, secs = divmod(user_time, 60)\n",
    "       timer = '{:02d}:{:02d}'.format(mins, secs)\n",
    "       print(timer, end='\\r')\n",
    "       time.sleep(1)\n",
    "       user_time -= 1\n",
    "   print('Lift off!')\n",
    "\n",
    "\n",
    "if __name__ == '__main__':\n",
    "   user_time = int(input(\"Enter a time in seconds: \"))\n",
    "   countdown(user_time)"
   ]
  },
  {
   "cell_type": "code",
   "execution_count": null,
   "id": "fdf9242b",
   "metadata": {},
   "outputs": [],
   "source": []
  }
 ],
 "metadata": {
  "kernelspec": {
   "display_name": "Python 3 (ipykernel)",
   "language": "python",
   "name": "python3"
  },
  "language_info": {
   "codemirror_mode": {
    "name": "ipython",
    "version": 3
   },
   "file_extension": ".py",
   "mimetype": "text/x-python",
   "name": "python",
   "nbconvert_exporter": "python",
   "pygments_lexer": "ipython3",
   "version": "3.9.12"
  }
 },
 "nbformat": 4,
 "nbformat_minor": 5
}
